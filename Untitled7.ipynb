{
  "nbformat": 4,
  "nbformat_minor": 0,
  "metadata": {
    "colab": {
      "provenance": [],
      "toc_visible": true
    },
    "kernelspec": {
      "name": "python3",
      "display_name": "Python 3"
    },
    "language_info": {
      "name": "python"
    }
  },
  "cells": [
    {
      "cell_type": "code",
      "execution_count": null,
      "metadata": {
        "colab": {
          "base_uri": "https://localhost:8080/",
          "height": 110
        },
        "id": "eZAHytRqDvBm",
        "outputId": "2e37ce40-bc76-4b16-b88b-3c50c9a72855"
      },
      "outputs": [
        {
          "output_type": "error",
          "ename": "SyntaxError",
          "evalue": "invalid syntax (<ipython-input-18-e1916c71ed9e>, line 1)",
          "traceback": [
            "\u001b[0;36m  File \u001b[0;32m\"<ipython-input-18-e1916c71ed9e>\"\u001b[0;36m, line \u001b[0;32m1\u001b[0m\n\u001b[0;31m    def func (x y):\u001b[0m\n\u001b[0m                ^\u001b[0m\n\u001b[0;31mSyntaxError\u001b[0m\u001b[0;31m:\u001b[0m invalid syntax\n"
          ]
        }
      ],
      "source": [
        "def func (x y):\n",
        "  print(x+y)\n",
        "\n",
        "   func(10,20)"
      ]
    },
    {
      "cell_type": "code",
      "source": [
        "def func (x ,y):\n",
        "  return \"hey\"\n",
        "  #call\n",
        "  x =func(10, 20)\n",
        "  print (x)"
      ],
      "metadata": {
        "id": "MnluPtQiFuuB"
      },
      "execution_count": null,
      "outputs": []
    },
    {
      "cell_type": "code",
      "source": [
        "def emplyee( eid, ename, email):\n",
        "  print (f\"Eid:{eid} /tEmail:{email} /t name:{ename}\")\n",
        "  employee (10 ,20 ,30)"
      ],
      "metadata": {
        "id": "paMAteL5GRQ0"
      },
      "execution_count": null,
      "outputs": []
    },
    {
      "cell_type": "markdown",
      "source": [
        "requriesd\n"
      ],
      "metadata": {
        "id": "zSf6019NInjP"
      }
    },
    {
      "cell_type": "code",
      "source": [
        "def emplyee( eid, ename, email):\n",
        "  print (f\"Eid:{eid} /tEmail:{email} /t name:{ename}\")\n",
        "  employee (\"10\", \"yash \",\"vyash4266@gmail.com\")"
      ],
      "metadata": {
        "id": "A_nFW41cHOZB"
      },
      "execution_count": null,
      "outputs": []
    },
    {
      "cell_type": "code",
      "source": [
        "#keyword\n",
        "def emplyee( eid, ename, email):\n",
        "  print (f\"Eid:{eid} /tEmail:{email} /t name:{ename}\")\n",
        "  employee (\"yash\", \"10\", \"vyash4266@gmail.com\")"
      ],
      "metadata": {
        "id": "Bj7rpxo_IKS9"
      },
      "execution_count": null,
      "outputs": []
    },
    {
      "cell_type": "code",
      "source": [
        "def emplyee( eid, ename, email=\"vyash4266@gmail.com\"):\n",
        "  print (f\"Eid:{eid} /tEmail:{email} /t name:{ename}\")\n",
        "  employee(\"yash\", \"10\")"
      ],
      "metadata": {
        "id": "sevNPVX2Ir3x"
      },
      "execution_count": null,
      "outputs": []
    },
    {
      "cell_type": "code",
      "source": [
        "def employee(*x):\n",
        "  print (X)\n",
        "\n",
        "\n",
        "  employee()"
      ],
      "metadata": {
        "id": "pUB8I8uFJxCa"
      },
      "execution_count": null,
      "outputs": []
    },
    {
      "cell_type": "code",
      "source": [
        "def employee(*x):\n",
        "  print (X)\n",
        "\n",
        "\n",
        "  employee(10, 20)"
      ],
      "metadata": {
        "id": "JNwbFT_0KQFN"
      },
      "execution_count": null,
      "outputs": []
    },
    {
      "cell_type": "markdown",
      "source": [
        "$%variable lenght argument"
      ],
      "metadata": {
        "id": "oMXUVrkfLQL1"
      }
    },
    {
      "cell_type": "code",
      "source": [
        "def employee(**x):\n",
        "  print (X ,type(x))\n",
        "\n",
        "\n",
        "\n",
        "  employee(age=10,salary=1000)\n",
        "  employee(salary=1000)"
      ],
      "metadata": {
        "id": "imSmvAIiKdzS"
      },
      "execution_count": null,
      "outputs": []
    },
    {
      "cell_type": "code",
      "source": [
        "def employee(**x):\n",
        "  print (\"hey\")\n",
        "  out= employee\n",
        "  out()\n",
        "  employee()"
      ],
      "metadata": {
        "id": "2GfXQBu7LX-w"
      },
      "execution_count": null,
      "outputs": []
    },
    {
      "cell_type": "code",
      "source": [],
      "metadata": {
        "id": "aaD9foRwMCbB"
      },
      "execution_count": null,
      "outputs": []
    },
    {
      "cell_type": "code",
      "source": [],
      "metadata": {
        "id": "-iANFRwbMAvQ"
      },
      "execution_count": null,
      "outputs": []
    },
    {
      "cell_type": "code",
      "source": [],
      "metadata": {
        "id": "13riI3jkMA-b"
      },
      "execution_count": null,
      "outputs": []
    },
    {
      "cell_type": "code",
      "source": [],
      "metadata": {
        "id": "KYQdpo3tMBc2"
      },
      "execution_count": null,
      "outputs": []
    },
    {
      "cell_type": "code",
      "source": [],
      "metadata": {
        "id": "7ryDZ-w2MBkr"
      },
      "execution_count": null,
      "outputs": []
    },
    {
      "cell_type": "code",
      "source": [],
      "metadata": {
        "id": "hwtm2jC-MACn"
      },
      "execution_count": null,
      "outputs": []
    }
  ]
}